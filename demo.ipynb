{
 "cells": [
  {
   "cell_type": "markdown",
   "metadata": {},
   "source": [
    "# <center>A simple demo</center>"
   ]
  },
  {
   "cell_type": "code",
   "execution_count": null,
   "metadata": {
    "ExecuteTime": {
     "end_time": "2020-06-16T02:03:29.005524Z",
     "start_time": "2020-06-16T02:03:26.611045Z"
    }
   },
   "outputs": [],
   "source": [
    "import pandas as pd\n",
    "import gensim\n",
    "from gensim import corpora"
   ]
  },
  {
   "cell_type": "code",
   "execution_count": null,
   "metadata": {
    "ExecuteTime": {
     "end_time": "2020-06-16T02:03:29.060248Z",
     "start_time": "2020-06-16T02:03:29.041263Z"
    }
   },
   "outputs": [],
   "source": [
    "def ShowTopics(text, model, corpus):\n",
    "    \"\"\"Show the topic distributions of text.\"\"\"\n",
    "    topics = []\n",
    "    for i in range(len(text)):\n",
    "        topics.append(model[corpus[i]])\n",
    "    return topics\n",
    "\n",
    "def WhichTopic(text, model, corpus):\n",
    "    \"\"\"Find the most likely topic of text.\"\"\"\n",
    "    topic = []\n",
    "    for i in range(len(text)):\n",
    "        topic_index, topic_value = max(model[corpus[i]], key=lambda item: item[1])\n",
    "        topic.append(topic_index)\n",
    "    return topic"
   ]
  },
  {
   "cell_type": "code",
   "execution_count": null,
   "metadata": {
    "ExecuteTime": {
     "end_time": "2020-06-16T02:03:29.114747Z",
     "start_time": "2020-06-16T02:03:29.073906Z"
    },
    "scrolled": true
   },
   "outputs": [],
   "source": [
    "mydata = pd.DataFrame({\"text\": [\"Apples and oranges are delicious.\",\n",
    "                           \"Michigan is a state in the United States.\",\n",
    "                           \"Michigan apples are the best.\"],\n",
    "                       \"processed\": [['apple', 'orange', 'delicious'],\n",
    "                            ['michigan', 'state', 'unite', 'state'], \n",
    "                            ['michigan', 'apple', 'best']]})\n",
    "mydata"
   ]
  },
  {
   "cell_type": "markdown",
   "metadata": {},
   "source": [
    "---"
   ]
  },
  {
   "cell_type": "markdown",
   "metadata": {},
   "source": [
    "## LDA model"
   ]
  },
  {
   "cell_type": "code",
   "execution_count": null,
   "metadata": {
    "ExecuteTime": {
     "end_time": "2020-06-16T02:03:29.440192Z",
     "start_time": "2020-06-16T02:03:29.124936Z"
    }
   },
   "outputs": [],
   "source": [
    "dictionary = corpora.Dictionary(mydata.processed)\n",
    "corpus = [dictionary.doc2bow(t) for t in mydata.processed]\n",
    "model = gensim.models.ldamodel.LdaModel(corpus, num_topics=2, id2word=dictionary, passes=100)"
   ]
  },
  {
   "cell_type": "markdown",
   "metadata": {},
   "source": [
    "## Each topic is a collection of keywords"
   ]
  },
  {
   "cell_type": "code",
   "execution_count": null,
   "metadata": {
    "ExecuteTime": {
     "end_time": "2020-06-16T02:03:29.452541Z",
     "start_time": "2020-06-16T02:03:29.443860Z"
    }
   },
   "outputs": [],
   "source": [
    "model.print_topics(num_words=3) # print the word mix in each topic"
   ]
  },
  {
   "cell_type": "markdown",
   "metadata": {},
   "source": [
    "## Each document is a collection of topics"
   ]
  },
  {
   "cell_type": "code",
   "execution_count": null,
   "metadata": {
    "ExecuteTime": {
     "end_time": "2020-06-16T02:03:29.477310Z",
     "start_time": "2020-06-16T02:03:29.457440Z"
    }
   },
   "outputs": [],
   "source": [
    "print(model[corpus[0]]) # print the topic mix for document 0"
   ]
  },
  {
   "cell_type": "markdown",
   "metadata": {},
   "source": [
    "---"
   ]
  },
  {
   "cell_type": "code",
   "execution_count": null,
   "metadata": {
    "ExecuteTime": {
     "end_time": "2020-06-16T02:03:29.551223Z",
     "start_time": "2020-06-16T02:03:29.507493Z"
    },
    "scrolled": true
   },
   "outputs": [],
   "source": [
    "mydata[\"topic_mix\"] = ShowTopics(mydata.text, model, corpus)\n",
    "mydata[\"the_most_likely_topic\"] = WhichTopic(mydata.text, model, corpus)\n",
    "mydata.head()"
   ]
  },
  {
   "cell_type": "code",
   "execution_count": null,
   "metadata": {},
   "outputs": [],
   "source": []
  }
 ],
 "metadata": {
  "kernelspec": {
   "display_name": "Python 3",
   "language": "python",
   "name": "python3"
  },
  "language_info": {
   "codemirror_mode": {
    "name": "ipython",
    "version": 3
   },
   "file_extension": ".py",
   "mimetype": "text/x-python",
   "name": "python",
   "nbconvert_exporter": "python",
   "pygments_lexer": "ipython3",
   "version": "3.7.4"
  },
  "varInspector": {
   "cols": {
    "lenName": 16,
    "lenType": 16,
    "lenVar": 40
   },
   "kernels_config": {
    "python": {
     "delete_cmd_postfix": "",
     "delete_cmd_prefix": "del ",
     "library": "var_list.py",
     "varRefreshCmd": "print(var_dic_list())"
    },
    "r": {
     "delete_cmd_postfix": ") ",
     "delete_cmd_prefix": "rm(",
     "library": "var_list.r",
     "varRefreshCmd": "cat(var_dic_list()) "
    }
   },
   "types_to_exclude": [
    "module",
    "function",
    "builtin_function_or_method",
    "instance",
    "_Feature"
   ],
   "window_display": false
  }
 },
 "nbformat": 4,
 "nbformat_minor": 2
}
