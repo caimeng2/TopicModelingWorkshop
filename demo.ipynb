{
 "cells": [
  {
   "cell_type": "markdown",
   "metadata": {},
   "source": [
    "# <center>A simple demo</center>"
   ]
  },
  {
   "cell_type": "code",
   "execution_count": null,
   "metadata": {
    "ExecuteTime": {
     "end_time": "2020-06-10T19:47:50.877193Z",
     "start_time": "2020-06-10T19:47:49.276145Z"
    }
   },
   "outputs": [],
   "source": [
    "import pandas as pd\n",
    "import gensim\n",
    "from gensim import corpora"
   ]
  },
  {
   "cell_type": "code",
   "execution_count": null,
   "metadata": {
    "ExecuteTime": {
     "end_time": "2020-06-10T19:47:51.744260Z",
     "start_time": "2020-06-10T19:47:51.734759Z"
    }
   },
   "outputs": [],
   "source": [
    "def ShowTopics(text, model, corpus):\n",
    "    \"\"\"Show the topic distributions of text.\"\"\"\n",
    "    topics = []\n",
    "    for i in range(len(text)):\n",
    "        topics.append(model[corpus[i]])\n",
    "    return topics\n",
    "\n",
    "def WhichTopic(text, model, corpus):\n",
    "    \"\"\"Find the most likely topic of text.\"\"\"\n",
    "    topic = []\n",
    "    for i in range(len(text)):\n",
    "        topic_index, topic_value = max(model[corpus[i]], key=lambda item: item[1])\n",
    "        topic.append(topic_index)\n",
    "    return topic"
   ]
  },
  {
   "cell_type": "code",
   "execution_count": null,
   "metadata": {
    "ExecuteTime": {
     "end_time": "2020-06-10T19:47:53.166511Z",
     "start_time": "2020-06-10T19:47:53.140779Z"
    }
   },
   "outputs": [],
   "source": [
    "mydata = pd.DataFrame({\"text\": [\"Apples and oranges are delicious.\",\n",
    "                           \"Michigan is a state in the United States.\",\n",
    "                           \"Michigan apples are the best.\"],\n",
    "                       \"processed\": [['apple', 'orange', 'delicious'],\n",
    "                            ['michigan', 'state', 'unite', 'state'], \n",
    "                            ['michigan', 'apple', 'best']]})\n",
    "mydata"
   ]
  },
  {
   "cell_type": "code",
   "execution_count": null,
   "metadata": {
    "ExecuteTime": {
     "end_time": "2020-06-10T19:47:57.605511Z",
     "start_time": "2020-06-10T19:47:57.494781Z"
    }
   },
   "outputs": [],
   "source": [
    "# a LDA model\n",
    "dictionary = corpora.Dictionary(mydata.processed)\n",
    "corpus = [dictionary.doc2bow(t) for t in mydata.processed]\n",
    "model = gensim.models.ldamodel.LdaModel(corpus, num_topics=2, id2word=dictionary, passes=50)"
   ]
  },
  {
   "cell_type": "code",
   "execution_count": null,
   "metadata": {
    "ExecuteTime": {
     "end_time": "2020-06-10T19:48:27.318405Z",
     "start_time": "2020-06-10T19:48:27.278176Z"
    }
   },
   "outputs": [],
   "source": [
    "mydata[\"topic_mix\"]=ShowTopics(mydata.text, model, corpus)\n",
    "mydata[\"the_most_likely_topic\"]=WhichTopic(mydata.text, model, corpus)\n",
    "mydata.head()"
   ]
  },
  {
   "cell_type": "code",
   "execution_count": null,
   "metadata": {
    "ExecuteTime": {
     "end_time": "2020-06-10T19:51:48.159752Z",
     "start_time": "2020-06-10T19:51:48.149474Z"
    }
   },
   "outputs": [],
   "source": [
    "# Each topic is a collection of keywords\n",
    "model.print_topics(num_words=3)"
   ]
  },
  {
   "cell_type": "code",
   "execution_count": null,
   "metadata": {
    "ExecuteTime": {
     "end_time": "2020-06-10T19:52:47.017685Z",
     "start_time": "2020-06-10T19:52:47.009229Z"
    }
   },
   "outputs": [],
   "source": [
    "# Each document is a collection of topics\n",
    "print(model[corpus[0]])"
   ]
  },
  {
   "cell_type": "code",
   "execution_count": null,
   "metadata": {},
   "outputs": [],
   "source": []
  }
 ],
 "metadata": {
  "kernelspec": {
   "display_name": "Python 3",
   "language": "python",
   "name": "python3"
  },
  "language_info": {
   "codemirror_mode": {
    "name": "ipython",
    "version": 3
   },
   "file_extension": ".py",
   "mimetype": "text/x-python",
   "name": "python",
   "nbconvert_exporter": "python",
   "pygments_lexer": "ipython3",
   "version": "3.7.4"
  },
  "varInspector": {
   "cols": {
    "lenName": 16,
    "lenType": 16,
    "lenVar": 40
   },
   "kernels_config": {
    "python": {
     "delete_cmd_postfix": "",
     "delete_cmd_prefix": "del ",
     "library": "var_list.py",
     "varRefreshCmd": "print(var_dic_list())"
    },
    "r": {
     "delete_cmd_postfix": ") ",
     "delete_cmd_prefix": "rm(",
     "library": "var_list.r",
     "varRefreshCmd": "cat(var_dic_list()) "
    }
   },
   "types_to_exclude": [
    "module",
    "function",
    "builtin_function_or_method",
    "instance",
    "_Feature"
   ],
   "window_display": false
  }
 },
 "nbformat": 4,
 "nbformat_minor": 2
}
