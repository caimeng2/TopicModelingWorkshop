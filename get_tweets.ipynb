{
 "cells": [
  {
   "cell_type": "code",
   "execution_count": null,
   "metadata": {},
   "outputs": [],
   "source": [
    "from TwitterAPI import TwitterAPI, TwitterPager\n",
    "import csv"
   ]
  },
  {
   "cell_type": "code",
   "execution_count": null,
   "metadata": {},
   "outputs": [],
   "source": [
    "# Reference: https://github.com/geduldig/TwitterAPI/tree/master/TwitterAPI\n",
    "\n",
    "SEARCH_TERM = '-RT lang:en your search terms'\n",
    "PRODUCT = 'fullarchive' \n",
    "LABEL = 'search'\n",
    "\n",
    "api = TwitterAPI(key,\n",
    "                 secret,\n",
    "                 access_token,\n",
    "                 access_token_secret)\n",
    "\n",
    "r = TwitterPager(api, 'tweets/search/%s/:%s' % (PRODUCT, LABEL),\n",
    "                    {'query':SEARCH_TERM,\n",
    "                     'maxResults':100,\n",
    "                     'fromDate':'201601010000',\n",
    "                     'toDate':'201612310000',\n",
    "                     }).get_iterator()\n",
    "\n",
    "# write tweets into a csv file\n",
    "csvFile = open('tweets.csv','a')\n",
    "csvWriter = csv.writer(csvFile)\n",
    "\n",
    "for item in r:\n",
    "    if 'extended_tweet' in item:\n",
    "        csvWriter.writerow([item['created_at'],item['id'], item['entities']['hashtags'], \n",
    "                            item['entities']['user_mentions'],item['in_reply_to_status_id'], \n",
    "                            item['in_reply_to_user_id'],item['in_reply_to_screen_name'],\n",
    "                            item['user']['screen_name'], item['user']['id'], item['user']['location'], \n",
    "                            item['user']['description'], item['user']['url'], item['user']['followers_count'], \n",
    "                            item['user']['friends_count'], item['user']['created_at'], item['user']['verified'], \n",
    "                            item['geo'], item['coordinates'], item['place'], item['retweet_count'], \n",
    "                            item['favorite_count'], item['extended_tweet']['full_text']])\n",
    "    else:\n",
    "        csvWriter.writerow([item['created_at'],item['id'], item['entities']['hashtags'], \n",
    "                            item['entities']['user_mentions'],item['in_reply_to_status_id'], \n",
    "                            item['in_reply_to_user_id'],item['in_reply_to_screen_name'],\n",
    "                            item['user']['screen_name'], item['user']['id'], item['user']['location'], \n",
    "                            item['user']['description'], item['user']['url'], item['user']['followers_count'], \n",
    "                            item['user']['friends_count'], item['user']['created_at'], item['user']['verified'], \n",
    "                            item['geo'], item['coordinates'], item['place'], item['retweet_count'], \n",
    "                            item['favorite_count'], item['text']])\n",
    "\n",
    "csvFile.close()"
   ]
  }
 ],
 "metadata": {
  "kernelspec": {
   "display_name": "Python 3",
   "language": "python",
   "name": "python3"
  },
  "language_info": {
   "codemirror_mode": {
    "name": "ipython",
    "version": 3
   },
   "file_extension": ".py",
   "mimetype": "text/x-python",
   "name": "python",
   "nbconvert_exporter": "python",
   "pygments_lexer": "ipython3",
   "version": "3.7.4"
  },
  "varInspector": {
   "cols": {
    "lenName": 16,
    "lenType": 16,
    "lenVar": 40
   },
   "kernels_config": {
    "python": {
     "delete_cmd_postfix": "",
     "delete_cmd_prefix": "del ",
     "library": "var_list.py",
     "varRefreshCmd": "print(var_dic_list())"
    },
    "r": {
     "delete_cmd_postfix": ") ",
     "delete_cmd_prefix": "rm(",
     "library": "var_list.r",
     "varRefreshCmd": "cat(var_dic_list()) "
    }
   },
   "types_to_exclude": [
    "module",
    "function",
    "builtin_function_or_method",
    "instance",
    "_Feature"
   ],
   "window_display": false
  }
 },
 "nbformat": 4,
 "nbformat_minor": 2
}
